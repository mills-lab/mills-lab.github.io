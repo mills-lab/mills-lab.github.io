{
 "cells": [
  {
   "cell_type": "code",
   "execution_count": 2,
   "metadata": {
    "scrolled": true
   },
   "outputs": [
    {
     "name": "stdout",
     "output_type": "stream",
     "text": [
      "A two-graph guided multi-task lasso approach for eQTL mapping\n"
     ]
    }
   ],
   "source": [
    "from Bio import Medline\n",
    "import re\n",
    "import glob\n",
    "\n",
    "colon = re.compile(r\"(.*:.*)\")\n",
    "pmids = {}\n",
    "with open(\"assets/mybib.nbib\") as handle:\n",
    "    records = Medline.parse(handle)\n",
    "    for record in records:\n",
    "        #if (pmids.has_key(record['PMID'])): //has_key removed in python3\n",
    "        if not 'PMID' in record:\n",
    "            print(record[\"TI\"])\n",
    "            continue\n",
    "        if record['PMID'] in pmids:\n",
    "            continue\n",
    "        pmids[record['PMID']] = 1  \n",
    "        f = open(\"_pubs/\" + record['PMID'] + \".md\", 'w')\n",
    "        f.write(\"---\\n\")\n",
    "        f.write(\"pmid: \" + record['PMID'] + \"\\n\")\n",
    "        f.write(\"layout: default\\n\")\n",
    "        match = colon.match(record['TI'])\n",
    "        if match:\n",
    "            record['TI'] = match.group(1).replace(\":\", \"&#58;\")\n",
    "        f.write(\"title: \" + record['TI'] + \"\\n\")\n",
    "        f.write(\"authors: \")\n",
    "        authors = record['AU']\n",
    "        #if (record.has_key('CN')): //has_key removed in python3\n",
    "        if 'CN' in record:\n",
    "            authors = authors + record['CN']\n",
    "        f.write(', '.join(authors) + \"\\n\")\n",
    "        f.write(\"pubdate: \" + record['DP'] + \"\\n\")\n",
    "        if 'VI' in record:\n",
    "            f.write(\"volume: \" + record['VI'] + \"\\n\")\n",
    "        else:\n",
    "            f.write(\"volume: \" + \"\\n\")\n",
    "        #if (record.has_key('IP')): //has_key removed in python3\n",
    "        if 'IP' in record:\n",
    "            f.write(\"issue: \" + record['IP'] + \"\\n\")\n",
    "        else:\n",
    "            f.write(\"issue: \" + \"\\n\")\n",
    "        if 'PG' not in record:\n",
    "            record['PG'] = \"N/A\"\n",
    "        f.write(\"pages: \" + record['PG'] + \"\\n\")\n",
    "        f.write(\"journal: \" + record['TA'] + \"\\n\")\n",
    "        f.write(\"---\\n\")\n",
    "        f.close()"
   ]
  },
  {
   "cell_type": "code",
   "execution_count": null,
   "metadata": {
    "collapsed": true,
    "jupyter": {
     "outputs_hidden": true
    }
   },
   "outputs": [],
   "source": []
  },
  {
   "cell_type": "code",
   "execution_count": null,
   "metadata": {
    "collapsed": true,
    "jupyter": {
     "outputs_hidden": true
    }
   },
   "outputs": [],
   "source": []
  }
 ],
 "metadata": {
  "kernelspec": {
   "display_name": "Python 3 (ipykernel)",
   "language": "python",
   "name": "python3"
  },
  "language_info": {
   "codemirror_mode": {
    "name": "ipython",
    "version": 3
   },
   "file_extension": ".py",
   "mimetype": "text/x-python",
   "name": "python",
   "nbconvert_exporter": "python",
   "pygments_lexer": "ipython3",
   "version": "3.9.7"
  }
 },
 "nbformat": 4,
 "nbformat_minor": 4
}
